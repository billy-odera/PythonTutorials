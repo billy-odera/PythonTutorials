{
 "cells": [
  {
   "cell_type": "markdown",
   "metadata": {},
   "source": [
    "Learning Objectives\n",
    "==================="
   ]
  },
  {
   "cell_type": "markdown",
   "metadata": {},
   "source": [
    "## Acknowledgements\n",
    "Some of the examples in this notebook are taken from:\n",
    "[Python Crash Course - A Hands-on, Project-based, introduction to programming](https://www.amazon.co.uk/Python-Crash-Course-Hands-Project-Based/dp/1593276036)"
   ]
  },
  {
   "cell_type": "markdown",
   "metadata": {},
   "source": [
    "## Why Python?\n"
   ]
  },
  {
   "cell_type": "markdown",
   "metadata": {},
   "source": [
    "According to a 2013 survey by industry analyst O’Reilly, 40 percent of data scientists responding use Python in their day-to-day work. They join the many other programmers in all fields who have made Python one of the top ten most popular programming languages in the world every year since 2003.\n",
    "\n",
    "Organizations such as Google, NASA, and CERN use Python for almost every programming purpose under the sun… including, in increasing measures, data science.\n",
    "\n",
    "According to StackOverflow the top 5 most wanted languages in 2019 are:\n",
    "* Python: 25.7%\n",
    "* JavaScript: 17.8%\n",
    "* Go: 15.0%\n",
    "* TypeScript: 14.6%\n",
    "* Kotlin: 11.1%\n",
    "\n",
    "The top most wanted languages are nearly identical to last year’s report."
   ]
  },
  {
   "cell_type": "markdown",
   "metadata": {},
   "source": [
    "## Python vs R"
   ]
  },
  {
   "cell_type": "markdown",
   "metadata": {},
   "source": [
    "### R\n",
    "Academics and statisticians have developed R over two decades. R has now one of the richest ecosystems to perform data analysis. There are around 12000 packages available in CRAN (open-source repository). It is possible to find a library for whatever the analysis you want to perform. The rich variety of library makes R the first choice for statistical analysis, especially for specialized analytical work.\n",
    "\n",
    "The cutting-edge difference between R and the other statistical products is the output. R has fantastic tools to communicate the results. Rstudio comes with the library knitr. Xie Yihui wrote this package. He made reporting trivial and elegant. Communicating the findings with a presentation or a document is easy.\n",
    "\n",
    "#### Advantages\n",
    "* Graphs are made to talk. R makes it beautiful\n",
    "* Large catalog for data analysis\n",
    "* GitHub interface\n",
    "* RMarkdown\n",
    "* Shiny\n",
    "* A language designed for statistical analysis and data science\n",
    "\n",
    "#### Disadvantages\n",
    "\n",
    "* Slow \n",
    "* High Learning curve \n",
    "* Dependencies between libraries\n",
    "\n",
    "### Python\n",
    "Python can pretty much do the same tasks as R: data wrangling, engineering, feature selection web scrapping, app and so on. Python is a tool to deploy and implement machine learning at a large-scale. Python codes are easier to maintain and more robust than R. Years ago; Python didn't have many data analysis and machine learning libraries. Recently, Python is catching up and provides cutting-edge API for machine learning or Artificial Intelligence. Most of the data science job can be done with five Python libraries: Numpy, Pandas, Scipy, Scikit-learn and Seaborn.\n",
    "\n",
    "Python, on the other hand, makes replicability and accessibility easier than R. In fact, if you need to use the results of your analysis in an application or website, Python is the best choice.\n",
    "\n",
    "#### Advantages\n",
    "* Jupyter notebook: Notebooks help to share data with colleagues\n",
    "* Mathematical computation\n",
    "* Deployment\n",
    "* Code Readability\n",
    "* Speed\n",
    "* Function in Python\n",
    "* A general purpose programming language\n",
    "\n",
    "#### Disadvantages\n",
    "* Not as many libraries as R\n",
    "\n",
    "This blog post highlights the differences and similarities between the syntax and outputs of the two languages.\n",
    "\n",
    "https://www.dataquest.io/blog/python-vs-r/"
   ]
  },
  {
   "cell_type": "markdown",
   "metadata": {},
   "source": [
    "## Python versions\n",
    "\n",
    "There are currently two different supported versions of Python, 2.7 and 3.7. Historically, 2.7 has been the version of choice for Data Scientists. This was due to more stable versions of packages such as Numpy, Pandas and Sci-kit-learn. However, as time has gone on Python 3 has been adopted as the version to use for all things data science. Python 2 is now considered a legacy version of the programming language and is due to be retired (read: not actively maintained) on January 1, 2020.\n",
    "\n",
    "\n",
    "Somewhat atypical of updates to programming languages, Python 3 introduced many backwards-incompatible changes to the language, so code written for 2.7 may not work under the latest versions of Python and vice versa. For this class all code will use Python 3s.7.\n",
    "\n",
    "You can check your Python version at the command line by running python --version."
   ]
  },
  {
   "cell_type": "markdown",
   "metadata": {},
   "source": [
    "Windows: https://docs.anaconda.com/anaconda/install/windows/\n",
    "\n",
    "Mac: https://docs.anaconda.com/anaconda/install/mac-os/\n",
    "\n",
    "Linux: https://docs.anaconda.com/anaconda/install/linux/\n",
    "\n",
    "Verifying your installation: https://docs.anaconda.com/anaconda/install/verify-install/\n"
   ]
  },
  {
   "cell_type": "markdown",
   "metadata": {},
   "source": [
    "## Modules\n",
    "\n",
    "Modules are pre-defined libraries which add additional functionality to base Python installation. In order to have access to these libraries they need to be installed.\n",
    "\n",
    "#### To install a module using Anaconda\n",
    "`conda install package-name`\n",
    "\n",
    "#### To install a specific version of a module using Anaconda\n",
    "`conda install package-name=2.3.4`\n",
    "\n",
    "#### To list all packages installed using conda\n",
    "`conda list`\n",
    "\n",
    "## Using Pip instead of Conda\n",
    "You may want to not use conda and instead use a basic installation of python. If this is the case, your way for installing packages is using Pip. \n",
    "\n",
    "#### To install a module using Pip\n",
    "`pip install package-name`\n",
    "\n",
    "#### To install a specific version of a module using Anaconda\n",
    "`pip install package-name=2.3.4`\n",
    "\n",
    "#### To list all packages installed using conda\n",
    "`pip list`\n",
    "\n",
    "#### The modules you will require for this module\n",
    "pandas\n",
    "numpy\n",
    "matplotlib\n",
    "sklearn\n",
    "\n",
    "#### To access the modules in python\n",
    "`import pandas`\n",
    "\n",
    "#### Using aliases\n",
    "`import pandas as pd`"
   ]
  },
  {
   "cell_type": "markdown",
   "metadata": {},
   "source": [
    "## Lets check to see if python installed correctly\n",
    "Go to your command line or terminal and type python --version\n",
    "\n",
    "If this works you should see something like\n",
    "`Python 3.6.6 :: Anaconda custom (64-bit)`\n",
    "\n",
    "If this doesn't work - take note of the error message."
   ]
  },
  {
   "cell_type": "markdown",
   "metadata": {},
   "source": [
    "### Using IDLE\n",
    "IDLE is the standard Python development environment. Its name is an acronym of \"Integrated DeveLopment Environment\". It works well on both Unix and Windows platforms.\n",
    "\n",
    "It has a Python shell window, which gives you access to the Python interactive mode. It also has a file editor that lets you create and edit existing Python source files.\n",
    "\n",
    "You can type Python code directly into this shell, at the '>>>' prompt. Whenever you enter a complete code fragment, it will be executed. For instance, typing:\n",
    "\n",
    "\\>\\>\\> print \"hello world\"\n",
    " \n",
    "and pressing ENTER, will cause the following to be displayed:\n",
    "\n",
    "`hello world`\n",
    "\n",
    "IDLE can also be used as a calculator:\n",
    "\n",
    "\\>\\>\\> 4+4\n",
    "\n",
    "`8`\n",
    "\n",
    "\\>\\>\\> 8**3\n",
    "\n",
    "`512`\n",
    " \n",
    "Addition (+), subtraction (-), multiplication (*), division (/), modulo (%) and power (\\*\\*) operators are built into the Python language. This means you can use them right away. If you want to use a square root in your calculation, you can either raise something to the power of 0.5 or you can import the math module. Do not worry about what it means right now, we will cover this later during the course. \n",
    "\n",
    "Below are two examples of square root calculation:\n",
    "\n",
    "\\>\\>\\> 16**0.5\n",
    "\n",
    "`4.0`\n",
    "\n",
    "\\>\\>\\> import math\n",
    "\n",
    "\\>\\>\\> math.sqrt(16)\n",
    "\n",
    "`4.0`"
   ]
  },
  {
   "cell_type": "markdown",
   "metadata": {},
   "source": [
    "### Using Spyder"
   ]
  },
  {
   "cell_type": "markdown",
   "metadata": {},
   "source": [
    "Spyder is s a powerful interactive development environment for the Python language with advanced editing, interactive testing, debugging and introspection features. There is a separate blog entry providing a summary of key features of Spyder, which is also available as Spyder's tutorial from inside Spyder. The homepage for Spyder is https://www.spyder-ide.org/ but if you installed Python using Anaconda, then it should be part of the installation process.\n",
    "\n",
    "The name SPYDER derives from \"Scientific PYthon Development EnviRonment\" (SPYDER).\n",
    "\n",
    "It can be used as the main environment to learn about Python, programming and computational science and engineering and you will see that the layout and features are similar to RStudio.\n",
    "\n",
    "Useful features include\n",
    "\n",
    "* provision of the IPython (Qt) console as an interactive prompt, which can display plots inline\n",
    "* ability to execute snippets of code from the editor in the console\n",
    "* continuous parsing of files in editor, and provision of visual warnings about potential errors\n",
    "* step-by-step execution\n",
    "* variable explorer similar to RStudio\n"
   ]
  },
  {
   "cell_type": "markdown",
   "metadata": {},
   "source": [
    "### Using Jupyter Notebooks"
   ]
  },
  {
   "cell_type": "markdown",
   "metadata": {},
   "source": [
    "The Jupyter Notebook is an open source web application that you can use to create and share documents that contain live code, equations, visualizations, and text. Jupyter Notebook is maintained by the people at Project Jupyter.\n",
    "\n",
    "Jupyter Notebooks are a spin-off project from the IPython project, which used to have an IPython Notebook project itself. The name, Jupyter, comes from the core supported programming languages that it supports: Julia, Python, and R. Jupyter ships with the IPython kernel, which allows you to write your programs in Python, but there are currently over 100 other kernels that you can also use.\n",
    "\n",
    "You can use pip or conda to install the Jupyter Notebook package. If you installed Python using Anaconda, then it's likely that the Jupyter Notebook package was installed as part of this but if it wasn't, then you can use the following commands to install.\n",
    "\n",
    "`pip install jupyter`  \n",
    "\n",
    "`conda install jupyter`\n"
   ]
  },
  {
   "cell_type": "markdown",
   "metadata": {},
   "source": [
    "### Some programming basics"
   ]
  },
  {
   "cell_type": "markdown",
   "metadata": {},
   "source": [
    "### Some Extra Resources"
   ]
  },
  {
   "cell_type": "markdown",
   "metadata": {},
   "source": [
    "\n",
    "\n"
   ]
  }
 ],
 "metadata": {
  "kernelspec": {
   "display_name": "Python 3",
   "language": "python",
   "name": "python3"
  },
  "language_info": {
   "codemirror_mode": {
    "name": "ipython",
    "version": 3
   },
   "file_extension": ".py",
   "mimetype": "text/x-python",
   "name": "python",
   "nbconvert_exporter": "python",
   "pygments_lexer": "ipython3",
   "version": "3.7.0"
  }
 },
 "nbformat": 4,
 "nbformat_minor": 2
}
