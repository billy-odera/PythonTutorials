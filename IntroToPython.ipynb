{
 "cells": [
  {
   "cell_type": "markdown",
   "metadata": {},
   "source": [
    "Learning Objectives\n",
    "==================="
   ]
  },
  {
   "cell_type": "markdown",
   "metadata": {},
   "source": [
    "## Python versions\n",
    "\n",
    "There are currently two different supported versions of Python, 2.7 and 3.7. Historically, 2.7 has been the version of choice for Data Scientists. This was due to more stable versions of packages such as Numpy, Pandas and Sci-kit-learn. However, as time has gone on Python 3 has been adopted as the version to use for all things data science. Python 2 is now considered a legacy version of the programming language and is due to be retired (read: not actively maintained) on January 1, 2020.\n",
    "\n",
    "\n",
    "Somewhat atypical of updates to programming languages, Python 3 introduced many backwards-incompatible changes to the language, so code written for 2.7 may not work under the latest versions of Python and vice versa. For this class all code will use Python 3s.7.\n",
    "\n",
    "You can check your Python version at the command line by running python --version."
   ]
  },
  {
   "cell_type": "markdown",
   "metadata": {},
   "source": [
    "## Modules\n",
    "\n",
    "Modules are pre-defined libraries which add additional functionality to base Python installation. In order to have access to these libraries they need to be installed.\n",
    "\n",
    "## To install a module using Anaconda **\n",
    "`conda install package-name`\n",
    "\n",
    "## To install a specific version of a module using Anaconda\n",
    "`conda install package-name=2.3.4`\n",
    "\n",
    "## To install a module using Pip\n",
    "`pip install package-name`\n",
    "\n",
    "## To install a specific version of a module using Anaconda\n",
    "`pip install package-name=2.3.4`\n",
    "\n",
    "## The modules you will require for this module\n",
    "pandas\n",
    "numpy\n",
    "matplotlib\n",
    "sklearn\n",
    "\n",
    "\n",
    "## To access the modules in python\n",
    "`import pandas`\n",
    "\n",
    "## Using aliases\n",
    "`import pandas as pd`"
   ]
  },
  {
   "cell_type": "code",
   "execution_count": 3,
   "metadata": {},
   "outputs": [],
   "source": [
    "import sklearn\n",
    "import tensorflow"
   ]
  },
  {
   "cell_type": "markdown",
   "metadata": {},
   "source": [
    "\n",
    "\n"
   ]
  }
 ],
 "metadata": {
  "kernelspec": {
   "display_name": "Python 3",
   "language": "python",
   "name": "python3"
  },
  "language_info": {
   "codemirror_mode": {
    "name": "ipython",
    "version": 3
   },
   "file_extension": ".py",
   "mimetype": "text/x-python",
   "name": "python",
   "nbconvert_exporter": "python",
   "pygments_lexer": "ipython3",
   "version": "3.6.6"
  }
 },
 "nbformat": 4,
 "nbformat_minor": 2
}
