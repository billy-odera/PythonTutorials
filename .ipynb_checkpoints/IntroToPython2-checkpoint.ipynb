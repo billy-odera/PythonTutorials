{
 "cells": [
  {
   "cell_type": "markdown",
   "metadata": {},
   "source": [
    "Introduction to Python Pt. 2\n",
    "============================"
   ]
  },
  {
   "cell_type": "markdown",
   "metadata": {},
   "source": [
    "## Learning Objectives"
   ]
  },
  {
   "cell_type": "markdown",
   "metadata": {},
   "source": [
    "* Basic python programming: data types and structures, hello world, functions vs methods.\n",
    "* Control structures in Python: while, for, iterators/iterables, if-else, etc."
   ]
  },
  {
   "cell_type": "markdown",
   "metadata": {},
   "source": [
    "## Acknowledgements\n",
    "Some of the examples in this notebook are taken from:\n",
    "[Python Crash Course - A Hands-on, Project-based, introduction to programming](https://www.amazon.co.uk/Python-Crash-Course-Hands-Project-Based/dp/1593276036)\n",
    "and https://chrisalbon.com/"
   ]
  },
  {
   "cell_type": "markdown",
   "metadata": {},
   "source": [
    "**Importing Modules**"
   ]
  },
  {
   "cell_type": "code",
   "execution_count": 1,
   "metadata": {},
   "outputs": [],
   "source": [
    "import numpy"
   ]
  },
  {
   "cell_type": "code",
   "execution_count": 2,
   "metadata": {},
   "outputs": [],
   "source": [
    "# Call a module using an alias\n",
    "import numpy as np"
   ]
  },
  {
   "cell_type": "markdown",
   "metadata": {},
   "source": [
    "Lets look at a toy problem. Imagine that you want to check the age of a person to see if they are eligible to see a football match and also applying a pricing scheme that is based on age.\n",
    "\n",
    "Step 1. Design an if statement that checks to see if a person is over the age of 11, if so they can watch the football match, otherwise they cannot. Change the age and watch what happens if you set age to 10, 11 and 12."
   ]
  },
  {
   "cell_type": "code",
   "execution_count": 3,
   "metadata": {},
   "outputs": [
    {
     "name": "stdout",
     "output_type": "stream",
     "text": [
      "You are eligible to watch the football match\n"
     ]
    }
   ],
   "source": [
    "age = 38 \n",
    "if (age >= 11):\n",
    "    print(\"You are eligible to watch the football match\")\n",
    "else: \n",
    "    print(\"You are not able to watch the football match.\")\n",
    "    "
   ]
  },
  {
   "cell_type": "markdown",
   "metadata": {},
   "source": [
    "Step 2. Let's allow anyone over the age of 6 in this time, but anyone between 6 and 11 needs to go to a child friendly part of the stadium. Because we have three branches, we need to use elif."
   ]
  },
  {
   "cell_type": "code",
   "execution_count": 4,
   "metadata": {},
   "outputs": [
    {
     "name": "stdout",
     "output_type": "stream",
     "text": [
      "You are eligible to watch the football match in the child friendly area of the stadium only.\n"
     ]
    }
   ],
   "source": [
    "age = 10\n",
    "if (age < 11):\n",
    "    print(\"You are eligible to watch the football match in the child friendly area of the stadium only.\")\n",
    "elif (age>= 11):\n",
    "    print(\"You are eligible to watch the football match.\")\n",
    "else: \n",
    "    print(\"You are not able to watch the football match.\")\n",
    "    "
   ]
  },
  {
   "cell_type": "code",
   "execution_count": 5,
   "metadata": {},
   "outputs": [
    {
     "name": "stdout",
     "output_type": "stream",
     "text": [
      "You are eligible to see the Football match.\n",
      "Ticket price is $20\n"
     ]
    }
   ],
   "source": [
    "age = 38\n",
    "if (age >= 11):\n",
    "  print (\"You are eligible to see the Football match.\")\n",
    "  if (age <= 20 or age >= 60):\n",
    "      print(\"Ticket price is $12\")\n",
    "  else:\n",
    "      print(\"Ticket price is $20\")\n",
    "else:\n",
    "    print (\"You're not eligible to buy a ticket.\")"
   ]
  },
  {
   "cell_type": "markdown",
   "metadata": {},
   "source": [
    "## For and While Loops"
   ]
  },
  {
   "cell_type": "code",
   "execution_count": 6,
   "metadata": {},
   "outputs": [
    {
     "name": "stdout",
     "output_type": "stream",
     "text": [
      "4320\n",
      "3420\n",
      "9280\n",
      "9200\n",
      "All done!\n"
     ]
    }
   ],
   "source": [
    "# One at a time, assign each value of the sequence to i and,\n",
    "for i in [432, 342, 928, 920]:\n",
    "    # multiply i by 10 and store the product in a new variable, x create a new variable, x,\n",
    "    x = i * 10\n",
    "    # print the value of x\n",
    "    print(x)\n",
    "# after the entire sequence processes,\n",
    "else:\n",
    "    # print this\n",
    "    print('All done!')"
   ]
  },
  {
   "cell_type": "code",
   "execution_count": 7,
   "metadata": {},
   "outputs": [
    {
     "name": "stdout",
     "output_type": "stream",
     "text": [
      "1\n",
      "2\n",
      "3\n",
      "4\n",
      "5\n",
      "6\n",
      "7\n",
      "8\n",
      "9\n",
      "10\n",
      "11\n",
      "12\n",
      "13\n",
      "14\n",
      "15\n",
      "16\n",
      "17\n",
      "18\n",
      "19\n",
      "20\n",
      "21\n",
      "22\n",
      "23\n",
      "24\n",
      "25\n",
      "26\n",
      "27\n",
      "28\n",
      "29\n",
      "30\n",
      "31\n",
      "32\n",
      "33\n",
      "34\n",
      "35\n",
      "36\n",
      "37\n",
      "38\n",
      "39\n",
      "40\n",
      "41\n",
      "42\n",
      "43\n",
      "44\n",
      "45\n",
      "46\n",
      "47\n",
      "48\n",
      "49\n",
      "50\n",
      "51\n",
      "52\n",
      "53\n",
      "54\n",
      "55\n",
      "56\n",
      "57\n",
      "58\n",
      "59\n",
      "60\n",
      "61\n",
      "62\n",
      "63\n",
      "64\n",
      "65\n",
      "66\n",
      "67\n",
      "68\n",
      "69\n",
      "70\n",
      "71\n",
      "72\n",
      "73\n",
      "74\n",
      "75\n",
      "76\n",
      "77\n",
      "78\n",
      "79\n",
      "80\n",
      "81\n",
      "82\n",
      "83\n",
      "84\n",
      "85\n",
      "86\n",
      "87\n",
      "88\n",
      "89\n",
      "90\n",
      "91\n",
      "92\n",
      "93\n",
      "94\n",
      "95\n",
      "96\n",
      "97\n",
      "98\n",
      "99\n"
     ]
    }
   ],
   "source": [
    "# creating a list of numbers using a for loop\n",
    "for i in range(1, 100):\n",
    "    print(i)"
   ]
  },
  {
   "cell_type": "markdown",
   "metadata": {},
   "source": [
    "## Working with lists"
   ]
  },
  {
   "cell_type": "code",
   "execution_count": 8,
   "metadata": {},
   "outputs": [
    {
     "name": "stdout",
     "output_type": "stream",
     "text": [
      "['trek', 'cannondale', 'redline', 'specialized']\n",
      "[5, 4, 3, 2, 1]\n",
      "[True, False, True, True, False]\n"
     ]
    }
   ],
   "source": [
    "# Defining lists is simple. Square brackets indicate the start and end of the list and commas separate the items. For example\n",
    "bicycles = ['trek', 'cannondale', 'redline', 'specialized']\n",
    "print(bicycles)\n",
    "# You can put any data types in a list \n",
    "numbers = [5, 4, 3, 2, 1]\n",
    "print(numbers)\n",
    "\n",
    "booleans = [True, False, True, True, False]\n",
    "print(booleans)"
   ]
  },
  {
   "cell_type": "code",
   "execution_count": 9,
   "metadata": {},
   "outputs": [
    {
     "name": "stdout",
     "output_type": "stream",
     "text": [
      "trek\n",
      "specialized\n"
     ]
    }
   ],
   "source": [
    "# You can access elements in a list by it's index. Note the index starts at 0 not 1.\n",
    "print(bicycles[0])\n",
    "# You can access the last element in the list by setting the index to -1\n",
    "print(bicycles[-1])"
   ]
  },
  {
   "cell_type": "code",
   "execution_count": 10,
   "metadata": {},
   "outputs": [
    {
     "name": "stdout",
     "output_type": "stream",
     "text": [
      "My first bicycle was a Trek.\n"
     ]
    }
   ],
   "source": [
    "# And this combined with some manipulation of strings that you've learned can do interesting things.\n",
    "message = \"My first bicycle was a \" + bicycles[0].title() + '.'\n",
    "print(message)"
   ]
  },
  {
   "cell_type": "code",
   "execution_count": 11,
   "metadata": {},
   "outputs": [
    {
     "name": "stdout",
     "output_type": "stream",
     "text": [
      "['trek', 'cannondale', 'redline', 'specialized']\n",
      "['marin', 'cannondale', 'redline', 'specialized']\n"
     ]
    }
   ],
   "source": [
    "# We can change items by assigning to an index a new item\n",
    "print(bicycles)\n",
    "bicycles[0] = 'marin'\n",
    "print(bicycles)"
   ]
  },
  {
   "cell_type": "code",
   "execution_count": 12,
   "metadata": {},
   "outputs": [
    {
     "name": "stdout",
     "output_type": "stream",
     "text": [
      "['marin', 'cannondale', 'redline', 'specialized']\n",
      "['marin', 'cannondale', 'redline', 'specialized', 'trek']\n"
     ]
    }
   ],
   "source": [
    "# We can add to a list using the append function\n",
    "print(bicycles)\n",
    "bicycles.append('trek')\n",
    "print(bicycles)"
   ]
  },
  {
   "cell_type": "code",
   "execution_count": 13,
   "metadata": {},
   "outputs": [
    {
     "name": "stdout",
     "output_type": "stream",
     "text": [
      "[]\n",
      "['trek']\n",
      "['trek', 'cannondale']\n",
      "['trek', 'cannondale', 'redline']\n",
      "['trek', 'cannondale', 'redline', 'specialized']\n"
     ]
    }
   ],
   "source": [
    "# This means you can build lists dynamically\n",
    "bicycles = [] # This makes an empty list\n",
    "print(bicycles)\n",
    "bicycles.append('trek')\n",
    "print(bicycles)\n",
    "bicycles.append('cannondale')\n",
    "print(bicycles)\n",
    "bicycles.append('redline')\n",
    "print(bicycles)\n",
    "bicycles.append('specialized')\n",
    "print(bicycles)"
   ]
  },
  {
   "cell_type": "code",
   "execution_count": 14,
   "metadata": {},
   "outputs": [
    {
     "name": "stdout",
     "output_type": "stream",
     "text": [
      "['trek', 'cannondale', 'redline', 'specialized']\n",
      "['trek', 'cannondale', 'marin', 'redline', 'specialized']\n"
     ]
    }
   ],
   "source": [
    "# You can insert elements into a list\n",
    "print(bicycles)\n",
    "bicycles.insert(2, 'marin') # Enters this bicycle at index 2\n",
    "print(bicycles)"
   ]
  },
  {
   "cell_type": "code",
   "execution_count": 15,
   "metadata": {},
   "outputs": [
    {
     "name": "stdout",
     "output_type": "stream",
     "text": [
      "['trek', 'cannondale', 'marin', 'redline', 'specialized']\n",
      "['trek', 'cannondale', 'redline', 'specialized']\n"
     ]
    }
   ],
   "source": [
    "# You can also remove items from a list using the del statement.\n",
    "print(bicycles)\n",
    "del bicycles[2]\n",
    "print(bicycles)"
   ]
  },
  {
   "cell_type": "code",
   "execution_count": 16,
   "metadata": {},
   "outputs": [
    {
     "name": "stdout",
     "output_type": "stream",
     "text": [
      "['trek', 'cannondale', 'redline', 'specialized']\n",
      "['trek', 'cannondale', 'redline']\n",
      "specialized\n",
      "['trek', 'redline']\n",
      "cannondale\n"
     ]
    }
   ],
   "source": [
    "# Sometimes you'll want to use the value after you've deleted it from the list.\n",
    "print(bicycles)\n",
    "popped_bike = bicycles.pop()\n",
    "print(bicycles)\n",
    "print(popped_bike)\n",
    "# You can pop from any index in the list.\n",
    "popped_bike = bicycles.pop(1)\n",
    "print(bicycles)\n",
    "print(popped_bike)"
   ]
  },
  {
   "cell_type": "code",
   "execution_count": 17,
   "metadata": {},
   "outputs": [
    {
     "name": "stdout",
     "output_type": "stream",
     "text": [
      "['trek', 'cannondale', 'redline', 'specialized']\n",
      "['trek', 'redline', 'specialized']\n"
     ]
    }
   ],
   "source": [
    "# You can also remove an item by value\n",
    "bicycles = ['trek', 'cannondale', 'redline', 'specialized']\n",
    "print(bicycles)\n",
    "bicycles.remove(\"cannondale\")\n",
    "print(bicycles)"
   ]
  },
  {
   "cell_type": "code",
   "execution_count": 20,
   "metadata": {},
   "outputs": [
    {
     "name": "stdout",
     "output_type": "stream",
     "text": [
      "['trek', 'cannondale', 'redline', 'specialized']\n",
      "['cannondale', 'redline', 'specialized', 'trek']\n",
      "['trek', 'specialized', 'redline', 'cannondale']\n"
     ]
    }
   ],
   "source": [
    "# We can sort lists with the sort method.\n",
    "print(bicycles)\n",
    "bicycles.sort()\n",
    "print(bicycles)\n",
    "# And reverse sort the lists\n",
    "bicycles.reverse()\n",
    "print(bicycles)\n",
    "# Note both these methods permanently sort the list and there is no way to go back to it's original order."
   ]
  },
  {
   "cell_type": "code",
   "execution_count": 21,
   "metadata": {},
   "outputs": [
    {
     "name": "stdout",
     "output_type": "stream",
     "text": [
      "Unsorted List\n",
      "['trek', 'cannondale', 'redline', 'specialized']\n",
      "Sorted List\n",
      "['cannondale', 'redline', 'specialized', 'trek']\n",
      "Unsorted List\n",
      "['trek', 'cannondale', 'redline', 'specialized']\n"
     ]
    }
   ],
   "source": [
    "# If we want to sort a list temporarily, we can use the sorted function\n",
    "bicycles = ['trek', 'cannondale', 'redline', 'specialized']\n",
    "print('Unsorted List')\n",
    "print(bicycles)\n",
    "print('Sorted List')\n",
    "print(sorted(bicycles))\n",
    "print('Unsorted List')\n",
    "print(bicycles)"
   ]
  },
  {
   "cell_type": "code",
   "execution_count": 22,
   "metadata": {},
   "outputs": [
    {
     "data": {
      "text/plain": [
       "4"
      ]
     },
     "execution_count": 22,
     "metadata": {},
     "output_type": "execute_result"
    }
   ],
   "source": [
    "# We can also count how many items are in a list by calling the length function\n",
    "len(bicycles)"
   ]
  },
  {
   "cell_type": "code",
   "execution_count": 24,
   "metadata": {},
   "outputs": [
    {
     "name": "stdout",
     "output_type": "stream",
     "text": [
      "Trek\n",
      "Cannondale\n",
      "Redline\n",
      "Specialized\n"
     ]
    }
   ],
   "source": [
    "# If we put this together we some of the loop statements we saw earlier, we can interate through lists. Here is a simple example.\n",
    "for bicycle in bicycles:\n",
    "    print(bicycle.title())\n",
    "    "
   ]
  },
  {
   "cell_type": "markdown",
   "metadata": {},
   "source": [
    "## Working with Dictionaries"
   ]
  },
  {
   "cell_type": "markdown",
   "metadata": {},
   "source": [
    "## Functions"
   ]
  },
  {
   "cell_type": "markdown",
   "metadata": {},
   "source": [
    "A function is a block of organized, reusable code that is used to perform a single, related action. Functions provide better modularity for your application and a high degree of code reusing.\n",
    "\n",
    "As you already know, Python gives you many built-in functions like print(), etc. but you can also create your own functions. These functions are called user-defined functions.\n",
    "Defining a Function\n",
    "\n",
    "You can define functions to provide the required functionality. Here are simple rules to define a function in Python.\n",
    "\n",
    "* Function blocks begin with the keyword def followed by the function name and parentheses ( ( ) ).\n",
    "* Any input parameters or arguments should be placed within these parentheses. You can also define parameters inside these parentheses.\n",
    "* The first statement of a function can be an optional statement - the documentation string of the function or docstring.\n",
    "* The code block within every function starts with a colon (:) and is indented.\n",
    "* The statement return [expression] exits a function, optionally passing back an expression to the caller. A return statement with no arguments is the same as return None.\n"
   ]
  },
  {
   "cell_type": "code",
   "execution_count": 25,
   "metadata": {},
   "outputs": [
    {
     "data": {
      "text/plain": [
       "5"
      ]
     },
     "execution_count": 25,
     "metadata": {},
     "output_type": "execute_result"
    }
   ],
   "source": [
    "# Here is an example of a function that adds 2 numbers together and returns the result.\n",
    "def add(a, b):\n",
    "    return a + b\n",
    "\n",
    "add(2, 3)"
   ]
  },
  {
   "cell_type": "markdown",
   "metadata": {},
   "source": [
    "### Introducing Numpy\n",
    "\n",
    "NumPy is the fundamental package for scientific computing in Python. It is a Python library that provides a multidimensional array object, various derived objects (such as masked arrays and matrices), and an assortment of routines for fast operations on arrays, including mathematical, logical, shape manipulation, sorting, selecting, I/O, discrete Fourier transforms, basic linear algebra, basic statistical operations, random simulation and much more.\n",
    "\n",
    "At the core of the NumPy package, is the ndarray object. This encapsulates n-dimensional arrays of homogeneous data types, with many operations being performed in compiled code for performance. There are several important differences between NumPy arrays and the standard Python sequences:\n",
    "\n",
    "* NumPy arrays have a fixed size at creation, unlike Python lists (which can grow dynamically). Changing the size of an ndarray will create a new array and delete the original.\n",
    "* The elements in a NumPy array are all required to be of the same data type, and thus will be the same size in memory. The exception: one can have arrays of (Python, including NumPy) objects, thereby allowing for arrays of different sized elements.\n",
    "* NumPy arrays facilitate advanced mathematical and other types of operations on large numbers of data. Typically, such operations are executed more efficiently and with less code than is possible using Python’s built-in sequences.\n",
    "* A growing plethora of scientific and mathematical Python-based packages are using NumPy arrays; though these typically support Python-sequence input, they convert such input to NumPy arrays prior to processing, and they often output NumPy arrays. In other words, in order to efficiently use much (perhaps even most) of today’s scientific/mathematical Python-based software, just knowing how to use Python’s built-in sequence types is insufficient - one also needs to know how to use NumPy arrays.\n",
    "\n",
    "Two of NumPy’s features which are the basis of much of its power: vectorization and broadcasting.\n",
    "\n",
    "Vectorization describes the absence of any explicit looping, indexing, etc., in the code - these things are taking place, of course, just “behind the scenes” in optimized, pre-compiled C code. Vectorized code has many advantages, among which are:\n",
    "\n",
    "* vectorized code is more concise and easier to read\n",
    "* fewer lines of code generally means fewer bugs\n",
    "* the code more closely resembles standard mathematical notation (making it easier, typically, to correctly code mathematical constructs)\n",
    "* vectorization results in more “Pythonic” code. Without vectorization, our code would be littered with inefficient and difficult to read for loops.\n",
    "\n",
    "Broadcasting is the term used to describe the implicit element-by-element behavior of operations; generally speaking, in NumPy all operations, not just arithmetic operations, but logical, bit-wise, functional, etc., behave in this implicit element-by-element fashion, i.e., they broadcast. Moreover, in the example above, a and b could be multidimensional arrays of the same shape, or a scalar and an array, or even two arrays of with different shapes, provided that the smaller array is “expandable” to the shape of the larger in such a way that the resulting broadcast is unambiguous. For detailed “rules” of broadcasting see numpy.doc.broadcasting.\n",
    "\n",
    "NumPy fully supports an object-oriented approach, starting, once again, with ndarray. For example, ndarray is a class, possessing numerous methods and attributes. Many of its methods mirror functions in the outer-most NumPy namespace, giving the programmer complete freedom to code in whichever paradigm she prefers and/or which seems most appropriate to the task at hand."
   ]
  },
  {
   "cell_type": "code",
   "execution_count": null,
   "metadata": {},
   "outputs": [],
   "source": [
    "# Import modules\n",
    "import numpy as np"
   ]
  },
  {
   "cell_type": "code",
   "execution_count": null,
   "metadata": {},
   "outputs": [],
   "source": [
    "# Create a list\n",
    "battle_deaths = [3246, 326, 2754, 2547, 2457, 3456]\n",
    "battle_deaths"
   ]
  },
  {
   "cell_type": "code",
   "execution_count": null,
   "metadata": {},
   "outputs": [],
   "source": [
    "# Create an array from numpy\n",
    "deaths = np.array(battle_deaths)\n",
    "deaths"
   ]
  },
  {
   "cell_type": "code",
   "execution_count": null,
   "metadata": {},
   "outputs": [],
   "source": [
    "# We can tell the difference between the two types by calling the function type.\n",
    "# This is useful, if you don't know what type of data you are working with.\n",
    "type(battle_deaths)"
   ]
  },
  {
   "cell_type": "code",
   "execution_count": null,
   "metadata": {},
   "outputs": [],
   "source": [
    "type(deaths)"
   ]
  },
  {
   "cell_type": "code",
   "execution_count": null,
   "metadata": {},
   "outputs": [],
   "source": [
    "# Create an array of zeros\n",
    "defectors = np.zeros(6)\n",
    "defectors"
   ]
  },
  {
   "cell_type": "code",
   "execution_count": null,
   "metadata": {},
   "outputs": [],
   "source": [
    "# Create a range from 0 to 100\n",
    "# See how this is to creating a range using a loop?\n",
    "zero_to_99 = np.arange(0, 100)\n",
    "zero_to_99"
   ]
  },
  {
   "cell_type": "code",
   "execution_count": null,
   "metadata": {},
   "outputs": [],
   "source": [
    "# Create 100 ticks between 0 and 1\n",
    "zero_to_1 = np.linspace(0, 1, 100)\n",
    "zero_to_1"
   ]
  }
 ],
 "metadata": {
  "kernelspec": {
   "display_name": "Python 3",
   "language": "python",
   "name": "python3"
  },
  "language_info": {
   "codemirror_mode": {
    "name": "ipython",
    "version": 3
   },
   "file_extension": ".py",
   "mimetype": "text/x-python",
   "name": "python",
   "nbconvert_exporter": "python",
   "pygments_lexer": "ipython3",
   "version": "3.7.1"
  }
 },
 "nbformat": 4,
 "nbformat_minor": 2
}
